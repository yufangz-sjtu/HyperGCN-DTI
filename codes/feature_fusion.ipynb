{
 "cells": [
  {
   "cell_type": "code",
   "execution_count": 2,
   "metadata": {},
   "outputs": [],
   "source": [
    "import pandas as pd\n",
    "import requests\n",
    "from tqdm import tqdm\n",
    "import torch\n",
    "import esm\n",
    "import pandas as pd\n",
    "import numpy as np\n",
    "import os\n",
    "from transformers import AutoTokenizer, AutoModel\n",
    "#import deepchem as dc\n",
    "#import wandb\n",
    "\n"
   ]
  },
  {
   "cell_type": "code",
   "execution_count": 2,
   "metadata": {},
   "outputs": [],
   "source": [
    "# 加载数据\n",
    "luo_protein_name = pd.read_csv('/data/zyf/HyperGCN-DTI/data/Luo/protein_seq.csv')\n",
    "Zheng_protein_name = pd.read_csv('/data/zyf/HyperGCN-DTI/data/Zheng/protein_seq.csv')\n",
    "luo_drug_name =  pd.read_csv('/data/zyf/HyperGCN-DTI/data/Luo/protein_seq.csv')\n"
   ]
  },
  {
   "cell_type": "code",
   "execution_count": 20,
   "metadata": {},
   "outputs": [
    {
     "name": "stdout",
     "output_type": "stream",
     "text": [
      "Loaded model with 6 layers.\n"
     ]
    },
    {
     "name": "stderr",
     "output_type": "stream",
     "text": [
      "Processing sequences: 100%|██████████| 989/989 [03:52<00:00,  4.26it/s]\n"
     ]
    },
    {
     "name": "stdout",
     "output_type": "stream",
     "text": [
      "Features successfully extracted and saved to: ./Yamanishi/protein_seq.csv\n",
      "Loaded model with 6 layers.\n"
     ]
    },
    {
     "name": "stderr",
     "output_type": "stream",
     "text": [
      "Processing sequences: 100%|██████████| 1556/1556 [06:04<00:00,  4.27it/s]\n"
     ]
    },
    {
     "name": "stdout",
     "output_type": "stream",
     "text": [
      "Features successfully extracted and saved to: ./Zheng/protein_seq.csv\n"
     ]
    }
   ],
   "source": [
    "\n",
    "if __name__ == \"__main__\":\n",
    "    os.chdir('/data/zyf/HyperGCN-DTI/data')\n",
    "    for csv_path in ['./Yamanishi/protein_seq.csv','./Zheng/protein_seq.csv']:\n",
    "        extractor = ProteinFeatureExtractor(model_name='esm2_t6_8M_UR50D')\n",
    "        # 从 CSV 文件中提取特征并保存\n",
    "        extractor.extract_features_from_csv(csv_path)\n"
   ]
  },
  {
   "cell_type": "code",
   "execution_count": 21,
   "metadata": {},
   "outputs": [
    {
     "name": "stdout",
     "output_type": "stream",
     "text": [
      "Number of missing values in 'SMILES' column: 4\n",
      "Number of missing values in 'SMILES' column: 13\n"
     ]
    }
   ],
   "source": [
    "luo_drug_name = pd.read_csv('/data/zyf/HyperGCN-DTI/data/Luo/drug.txt', header=None, names=['DrugBank ID'])\n",
    "Zheng_drug_name = pd.read_csv('/data/zyf/HyperGCN-DTI/data/Zheng/drug_dic.txt', header=None, names=['DrugBank ID'])\n",
    "mapping_data = pd.read_csv('/data/zyf/HyperGCN-DTI/data/drugbank/BioDb/drugbank/drugbank_small_molecule.csv')\n",
    "data = mapping_data[['drugbank_id','smiles']]\n",
    "data.columns = ['DrugBank ID',\"SMILES\"]\n",
    "luo_drug_smiles = get_smiles(luo_drug_name,data)\n",
    "zheng_drug_smiles = get_smiles(Zheng_drug_name,data)\n",
    "luo_drug_smiles.to_csv('/data/zyf/HyperGCN-DTI/data/Luo/drug_smiles.csv', index=False)\n",
    "zheng_drug_smiles.to_csv('/data/zyf/HyperGCN-DTI/data/Zheng/drug_smiles.csv', index=False)\n"
   ]
  },
  {
   "cell_type": "code",
   "execution_count": 2,
   "metadata": {},
   "outputs": [
    {
     "name": "stderr",
     "output_type": "stream",
     "text": [
      "Some weights of RobertaModel were not initialized from the model checkpoint at /data/zyf/HyperGCN-DTI/codes/ChemBert and are newly initialized: ['roberta.pooler.dense.bias', 'roberta.pooler.dense.weight']\n",
      "You should probably TRAIN this model on a down-stream task to be able to use it for predictions and inference.\n"
     ]
    },
    {
     "name": "stderr",
     "output_type": "stream",
     "text": [
      "Processing SMILES: 100%|██████████| 1094/1094 [00:02<00:00, 399.11it/s]\n"
     ]
    },
    {
     "name": "stdout",
     "output_type": "stream",
     "text": [
      "Features successfully extracted and saved to: /data/zyf/HyperGCN-DTI/data/Zheng/drug_smiles.csv\n"
     ]
    }
   ],
   "source": [
    "from feature_fusion import SMILESFeatureExtractor\n",
    "\n",
    "# 使用示例\n",
    "if __name__ == \"__main__\":\n",
    "    csv_path = '/data/zyf/HyperGCN-DTI/data/Zheng/drug_smiles.csv'  \n",
    "    extractor = SMILESFeatureExtractor(model_name='DeepChem/ChemBERTa-77M-MTR')\n",
    "    extractor.process_and_save_features(csv_path)\n"
   ]
  },
  {
   "cell_type": "code",
   "execution_count": 61,
   "metadata": {},
   "outputs": [
    {
     "name": "stderr",
     "output_type": "stream",
     "text": [
      "100%|██████████| 791/791 [34:35<00:00,  2.62s/it]"
     ]
    },
    {
     "name": "stdout",
     "output_type": "stream",
     "text": [
      "Data has been saved to /data/zyf/HyperGCN-DTI/data/Yamanishi/drug_disease.csv\n"
     ]
    },
    {
     "name": "stderr",
     "output_type": "stream",
     "text": [
      "\n"
     ]
    }
   ],
   "source": [
    "class KEGGDrugScraper:\n",
    "    def __init__(self, input_csv_path='/data/zyf/HyperGCN-DTI/data/Yamanishi/drug_smiles.csv',\n",
    "                        output_csv_path='/data/zyf/HyperGCN-DTI/data/Yamanishi/drug_disease.csv'):\n",
    "        \"\"\"\n",
    "        初始化 KEGGDrugScraper 类\n",
    "\n",
    "        Parameters:\n",
    "        - kegg_ids: list\n",
    "            KEGG Drug ID 列表\n",
    "        - output_csv_path: str, optional\n",
    "            保存 CSV 文件的路径，默认路径为 '/mnt/data/kegg_drug_info.csv'\n",
    "        \"\"\"\n",
    "        self.drug_name = pd.read_csv(input_csv_path)\n",
    "        self.kegg_ids =self.drug_name['KEGG Drug ID'].dropna().unique().tolist()\n",
    "        self.output_csv_path = output_csv_path\n",
    "        self.results = []\n",
    "    \n",
    "    def fetch_kegg_info(self, kegg_id):\n",
    "        \"\"\"\n",
    "        根据 KEGG Drug ID 获取 Efficacy 和 Disease 信息，并将它们合并\n",
    "        \"\"\"\n",
    "        url = f\"https://www.genome.jp/dbget-bin/www_bget?dr:{kegg_id}\"\n",
    "        response = requests.get(url)\n",
    "        \n",
    "        if response.status_code == 200:\n",
    "            soup = BeautifulSoup(response.content, 'html.parser')\n",
    "            \n",
    "            # 查找 Efficacy 信息\n",
    "            efficacy_section = soup.find(string=\"Efficacy\")\n",
    "            if efficacy_section:\n",
    "                efficacy = efficacy_section.find_next('td').get_text(strip=True, separator='; ')\n",
    "            else:\n",
    "                efficacy = 'N/A'\n",
    "            \n",
    "            # 查找 Disease 信息\n",
    "            disease_section = soup.find(string=\"Disease\")\n",
    "            if disease_section:\n",
    "                disease_entries = disease_section.find_next('td').find_all('a')\n",
    "                disease_list = [entry.get_text(strip=True) for entry in disease_entries]\n",
    "                disease = '; '.join(disease_list)\n",
    "            else:\n",
    "                disease = 'N/A'\n",
    "            \n",
    "            # 将 Efficacy 和 Disease 合并\n",
    "            efficacy_disease = f\"{efficacy}; {disease}\" if efficacy != 'N/A' and disease != 'N/A' else efficacy if disease == 'N/A' else disease\n",
    "            \n",
    "            return efficacy_disease\n",
    "        else:\n",
    "            return 'N/A'\n",
    "    \n",
    "    def scrape_data(self):\n",
    "        \"\"\"\n",
    "        遍历 KEGG Drug ID 列表并爬取信息\n",
    "        \"\"\"\n",
    "        for kegg_id in tqdm(self.kegg_ids):\n",
    "            #print(f\"Fetching data for KEGG Drug ID: {kegg_id}\")\n",
    "            efficacy_disease = self.fetch_kegg_info(kegg_id)\n",
    "            #print(f\"Efficacy and Disease: {efficacy_disease}\")\n",
    "            \n",
    "            self.results.append({'KEGG Drug ID': kegg_id, 'Efficacy and Disease': efficacy_disease})\n",
    "            \n",
    "            # 等待一会儿以避免对服务器造成压力\n",
    "            time.sleep(1)\n",
    "    \n",
    "    def save_to_csv(self):\n",
    "        \"\"\"\n",
    "        将爬取结果保存到 CSV 文件\n",
    "        \"\"\"\n",
    "        df = pd.DataFrame(self.results)\n",
    "        df.to_csv(self.output_csv_path, index=False)\n",
    "        print(f\"Data has been saved to {self.output_csv_path}\")\n",
    "    \n",
    "    def run(self):\n",
    "        \"\"\"\n",
    "        执行完整的爬取和保存流程\n",
    "        \"\"\"\n",
    "        self.scrape_data()\n",
    "        self.save_to_csv()\n",
    "\n",
    "\n",
    "scraper = KEGGDrugScraper()\n",
    "scraper.run()\n",
    "\n"
   ]
  },
  {
   "cell_type": "code",
   "execution_count": 62,
   "metadata": {},
   "outputs": [
    {
     "name": "stdout",
     "output_type": "stream",
     "text": [
      "The UniProt_IDs have been successfully saved to prot_id_to_uniprot_id.csv\n"
     ]
    }
   ],
   "source": [
    "import requests\n",
    "import pandas as pd\n",
    "import time\n",
    "\n",
    "def get_uniprot_id(prot_id):\n",
    "    \"\"\"Fetch the UniProt ID from KEGG using the provided prot_id.\"\"\"\n",
    "    url = f\"http://rest.kegg.jp/get/hsa:{prot_id}\"\n",
    "    response = requests.get(url)\n",
    "    \n",
    "    if response.status_code == 200:\n",
    "        # Find the line containing the UniProt ID\n",
    "        for line in response.text.splitlines():\n",
    "            if \"UniProt\" in line:\n",
    "                # Extract the UniProt ID\n",
    "                uniprot_id = line.split()[1]\n",
    "                return uniprot_id\n",
    "    return None\n",
    "\n",
    "# List of prot_ids to query\n",
    "prot_ids = ['10', '100', '10056', '1017', '1018', '10188', '1019', '1020', '1021', '1022', '1024', '1025', '10269', '10279', '10295']\n",
    "\n",
    "# Create a DataFrame to store the results\n",
    "results = []\n",
    "\n",
    "for prot_id in prot_ids:\n",
    "    uniprot_id = get_uniprot_id(prot_id)\n",
    "    results.append({'prot_id': prot_id, 'UniProt_ID': uniprot_id})\n",
    "    \n",
    "    # Sleep to avoid overwhelming the KEGG server\n",
    "    time.sleep(1)\n",
    "\n",
    "# Convert results to DataFrame\n",
    "df = pd.DataFrame(results)\n",
    "\n",
    "# Save the DataFrame to a CSV file\n",
    "df.to_csv('/data/zyf/HyperGCN-DTI/data/prot_id_to_uniprot_id.csv', index=False)\n",
    "\n",
    "print(\"The UniProt_IDs have been successfully saved to prot_id_to_uniprot_id.csv\")\n"
   ]
  },
  {
   "cell_type": "code",
   "execution_count": 10,
   "metadata": {},
   "outputs": [],
   "source": [
    "data = pd.read_csv('/data/zyf/HyperGCN-DTI/data/drugbank/BioDb/drugbank/drugbank_small_molecule.csv')"
   ]
  },
  {
   "cell_type": "code",
   "execution_count": 11,
   "metadata": {},
   "outputs": [
    {
     "data": {
      "text/html": [
       "<div>\n",
       "<style scoped>\n",
       "    .dataframe tbody tr th:only-of-type {\n",
       "        vertical-align: middle;\n",
       "    }\n",
       "\n",
       "    .dataframe tbody tr th {\n",
       "        vertical-align: top;\n",
       "    }\n",
       "\n",
       "    .dataframe thead th {\n",
       "        text-align: right;\n",
       "    }\n",
       "</style>\n",
       "<table border=\"1\" class=\"dataframe\">\n",
       "  <thead>\n",
       "    <tr style=\"text-align: right;\">\n",
       "      <th></th>\n",
       "      <th>type</th>\n",
       "      <th>drugbank_id</th>\n",
       "      <th>name</th>\n",
       "      <th>description</th>\n",
       "      <th>indication</th>\n",
       "      <th>unii</th>\n",
       "      <th>cas-num</th>\n",
       "      <th>groups</th>\n",
       "      <th>atc_codes</th>\n",
       "      <th>categories</th>\n",
       "      <th>inchi</th>\n",
       "      <th>inchikey</th>\n",
       "      <th>smiles</th>\n",
       "      <th>aliases</th>\n",
       "    </tr>\n",
       "  </thead>\n",
       "  <tbody>\n",
       "    <tr>\n",
       "      <th>2664</th>\n",
       "      <td>small molecule</td>\n",
       "      <td>DB15934</td>\n",
       "      <td>Ferric glycerophosphate</td>\n",
       "      <td>NaN</td>\n",
       "      <td>NaN</td>\n",
       "      <td>MUL7ONL3Z6</td>\n",
       "      <td>1301-70-8</td>\n",
       "      <td>approved|experimental</td>\n",
       "      <td>NaN</td>\n",
       "      <td>NaN</td>\n",
       "      <td>InChI=1S/C5H13O6P.C3H9O6P.2Fe/c6-3-1-5(2-4-7)1...</td>\n",
       "      <td>CBEYZWBXIPZYNH-UHFFFAOYSA-J</td>\n",
       "      <td>[Fe++].[Fe++].OCC(O)COP([O-])([O-])=O.OCCC(CCO...</td>\n",
       "      <td>Ferric glycerophosphate|Multiple Mineral Liquid</td>\n",
       "    </tr>\n",
       "    <tr>\n",
       "      <th>2665</th>\n",
       "      <td>small molecule</td>\n",
       "      <td>DB15950</td>\n",
       "      <td>Sodium camphorsulfonate</td>\n",
       "      <td>NaN</td>\n",
       "      <td>NaN</td>\n",
       "      <td>CFN2D8XEIU</td>\n",
       "      <td>21791-94-6</td>\n",
       "      <td>approved|experimental</td>\n",
       "      <td>NaN</td>\n",
       "      <td>NaN</td>\n",
       "      <td>InChI=1S/C10H16O4S.Na/c1-9(2)7-3-4-10(9,8(11)5...</td>\n",
       "      <td>AWMAOFAHBPCBHJ-YZUKSGEXSA-M</td>\n",
       "      <td>[Na+].[H][C@]12CC[C@@](CS([O-])(=O)=O)(C(=O)C1...</td>\n",
       "      <td>Broncho Tuss Adult|Broncho Tuss Infant|Sodium ...</td>\n",
       "    </tr>\n",
       "    <tr>\n",
       "      <th>2666</th>\n",
       "      <td>small molecule</td>\n",
       "      <td>DB15982</td>\n",
       "      <td>Berotralstat</td>\n",
       "      <td>Berotralstat is a selective inhibitor of plasm...</td>\n",
       "      <td>Berotralstat is indicated for prophylaxis of a...</td>\n",
       "      <td>XZA0KB1BDQ</td>\n",
       "      <td>1809010-50-1</td>\n",
       "      <td>approved</td>\n",
       "      <td>NaN</td>\n",
       "      <td>BCRP/ABCG2 Substrates|Cytochrome P-450 CYP2D6 ...</td>\n",
       "      <td>InChI=1S/C30H26F4N6O/c31-24-10-9-22(28(37-17-1...</td>\n",
       "      <td>UXNXMBYCBRBRFD-MUUNZHRXSA-N</td>\n",
       "      <td>NCC1=CC(=CC=C1)N1N=C(C=C1C(=O)NC1=CC(=CC=C1F)[...</td>\n",
       "      <td>Berotralstat|Orladeyo</td>\n",
       "    </tr>\n",
       "    <tr>\n",
       "      <th>2667</th>\n",
       "      <td>small molecule</td>\n",
       "      <td>DB16019</td>\n",
       "      <td>Gallium Ga-68 gozetotide</td>\n",
       "      <td>Gallium (Ga) 68 prostate-specific membrane ant...</td>\n",
       "      <td>Gallium Ga-68 gozetotide, or Gallium Ga-68 PSM...</td>\n",
       "      <td>ZJ0EKR6M10</td>\n",
       "      <td>1906894-20-9</td>\n",
       "      <td>approved</td>\n",
       "      <td>NaN</td>\n",
       "      <td>Acetates|Acids, Acyclic|Amines|Amino Acids, Pe...</td>\n",
       "      <td>InChI=1S/C44H62N6O17.Ga/c51-34-13-8-28(22-30(3...</td>\n",
       "      <td>AEBYHKKMCWUMKX-LNTZDJBBSA-K</td>\n",
       "      <td>[H+].[68Ga+3].OC(=O)CC[C@H](NC(=O)N[C@@H](CCCC...</td>\n",
       "      <td>\\n      |Gallium Ga-68 gozetotide</td>\n",
       "    </tr>\n",
       "    <tr>\n",
       "      <th>2668</th>\n",
       "      <td>small molecule</td>\n",
       "      <td>DB16022</td>\n",
       "      <td>Thenyldiamine</td>\n",
       "      <td>NaN</td>\n",
       "      <td>NaN</td>\n",
       "      <td>E4U52363JE</td>\n",
       "      <td>91-79-2</td>\n",
       "      <td>approved|experimental</td>\n",
       "      <td>NaN</td>\n",
       "      <td>NaN</td>\n",
       "      <td>InChI=1S/C14H19N3S/c1-16(2)8-9-17(11-13-6-10-1...</td>\n",
       "      <td>RCGYDFVCAAKKNG-UHFFFAOYSA-N</td>\n",
       "      <td>CN(C)CCN(CC1=CSC=C1)C1=CC=CC=N1</td>\n",
       "      <td>Neo Synephrine Nasal Spray|Neo-synephrine Nasa...</td>\n",
       "    </tr>\n",
       "  </tbody>\n",
       "</table>\n",
       "</div>"
      ],
      "text/plain": [
       "                type drugbank_id                      name  \\\n",
       "2664  small molecule     DB15934   Ferric glycerophosphate   \n",
       "2665  small molecule     DB15950   Sodium camphorsulfonate   \n",
       "2666  small molecule     DB15982              Berotralstat   \n",
       "2667  small molecule     DB16019  Gallium Ga-68 gozetotide   \n",
       "2668  small molecule     DB16022             Thenyldiamine   \n",
       "\n",
       "                                            description  \\\n",
       "2664                                                NaN   \n",
       "2665                                                NaN   \n",
       "2666  Berotralstat is a selective inhibitor of plasm...   \n",
       "2667  Gallium (Ga) 68 prostate-specific membrane ant...   \n",
       "2668                                                NaN   \n",
       "\n",
       "                                             indication        unii  \\\n",
       "2664                                                NaN  MUL7ONL3Z6   \n",
       "2665                                                NaN  CFN2D8XEIU   \n",
       "2666  Berotralstat is indicated for prophylaxis of a...  XZA0KB1BDQ   \n",
       "2667  Gallium Ga-68 gozetotide, or Gallium Ga-68 PSM...  ZJ0EKR6M10   \n",
       "2668                                                NaN  E4U52363JE   \n",
       "\n",
       "           cas-num                 groups atc_codes  \\\n",
       "2664     1301-70-8  approved|experimental       NaN   \n",
       "2665    21791-94-6  approved|experimental       NaN   \n",
       "2666  1809010-50-1               approved       NaN   \n",
       "2667  1906894-20-9               approved       NaN   \n",
       "2668       91-79-2  approved|experimental       NaN   \n",
       "\n",
       "                                             categories  \\\n",
       "2664                                                NaN   \n",
       "2665                                                NaN   \n",
       "2666  BCRP/ABCG2 Substrates|Cytochrome P-450 CYP2D6 ...   \n",
       "2667  Acetates|Acids, Acyclic|Amines|Amino Acids, Pe...   \n",
       "2668                                                NaN   \n",
       "\n",
       "                                                  inchi  \\\n",
       "2664  InChI=1S/C5H13O6P.C3H9O6P.2Fe/c6-3-1-5(2-4-7)1...   \n",
       "2665  InChI=1S/C10H16O4S.Na/c1-9(2)7-3-4-10(9,8(11)5...   \n",
       "2666  InChI=1S/C30H26F4N6O/c31-24-10-9-22(28(37-17-1...   \n",
       "2667  InChI=1S/C44H62N6O17.Ga/c51-34-13-8-28(22-30(3...   \n",
       "2668  InChI=1S/C14H19N3S/c1-16(2)8-9-17(11-13-6-10-1...   \n",
       "\n",
       "                         inchikey  \\\n",
       "2664  CBEYZWBXIPZYNH-UHFFFAOYSA-J   \n",
       "2665  AWMAOFAHBPCBHJ-YZUKSGEXSA-M   \n",
       "2666  UXNXMBYCBRBRFD-MUUNZHRXSA-N   \n",
       "2667  AEBYHKKMCWUMKX-LNTZDJBBSA-K   \n",
       "2668  RCGYDFVCAAKKNG-UHFFFAOYSA-N   \n",
       "\n",
       "                                                 smiles  \\\n",
       "2664  [Fe++].[Fe++].OCC(O)COP([O-])([O-])=O.OCCC(CCO...   \n",
       "2665  [Na+].[H][C@]12CC[C@@](CS([O-])(=O)=O)(C(=O)C1...   \n",
       "2666  NCC1=CC(=CC=C1)N1N=C(C=C1C(=O)NC1=CC(=CC=C1F)[...   \n",
       "2667  [H+].[68Ga+3].OC(=O)CC[C@H](NC(=O)N[C@@H](CCCC...   \n",
       "2668                    CN(C)CCN(CC1=CSC=C1)C1=CC=CC=N1   \n",
       "\n",
       "                                                aliases  \n",
       "2664    Ferric glycerophosphate|Multiple Mineral Liquid  \n",
       "2665  Broncho Tuss Adult|Broncho Tuss Infant|Sodium ...  \n",
       "2666                              Berotralstat|Orladeyo  \n",
       "2667                  \\n      |Gallium Ga-68 gozetotide  \n",
       "2668  Neo Synephrine Nasal Spray|Neo-synephrine Nasa...  "
      ]
     },
     "execution_count": 11,
     "metadata": {},
     "output_type": "execute_result"
    }
   ],
   "source": [
    "data.tail()"
   ]
  },
  {
   "cell_type": "code",
   "execution_count": 17,
   "metadata": {},
   "outputs": [
    {
     "name": "stdout",
     "output_type": "stream",
     "text": [
      "Number of missing values in 'SMILES' column: 45\n",
      "     DrugBank ID                                             SMILES\n",
      "0        DB00050  Clc1ccc(C[C@@H](NC(=O)[C@H](NC(=O)C)Cc2cc3c(cc...\n",
      "2        DB00152                  OCCc1c(C)[n+](Cc2c(N)nc(C)nc2)cs1\n",
      "4        DB00162       OC/C=C(/C=C/C=C(/C=C/C=1C(C)(C)CCCC=1C)\\C)\\C\n",
      "20       DB00175  O=C(O[C@@H]1[C@@H]2[C@@H](CC[C@@H](O)C[C@@H](O...\n",
      "21       DB00176                  FC(F)(F)c1ccc(C(=NOCCN)CCCCOC)cc1\n",
      "...          ...                                                ...\n",
      "3392     DB06711                        C(c1c2c(ccc1)cccc2)C1=NCCN1\n",
      "3394     DB06800  O=C1[C@@H]2Oc3c(O)ccc4c3[C@@]32[C@](O)([C@H]([...\n",
      "3396     DB06811                                                NaN\n",
      "3397     DB08826                                                NaN\n",
      "3398     DB08860  Fc1ccc(-c2c(/C=C/[C@@H](O)C[C@@H](O)CC(=O)O)c(...\n",
      "\n",
      "[708 rows x 2 columns]\n"
     ]
    }
   ],
   "source": [
    "luo_drug_features = luo_drug_name.merge(data, on='DrugBank ID', how='left')\n",
    "\n",
    "# Display the resulting dataframe containing the matching SMILES\n",
    "luo_drug_features = luo_drug_features[['DrugBank ID', 'SMILES']]\n",
    "# Drop duplicate rows based on the 'DrugBank ID' column\n",
    "luo_drug_features = luo_drug_features.drop_duplicates(subset='DrugBank ID', keep='first')\n",
    "\n",
    "# Check for any missing values in the 'SMILES' column\n",
    "missing_values = luo_drug_features['SMILES'].isna().sum()\n",
    "\n",
    "# Display the cleaned data and the count of missing values\n",
    "print(f\"Number of missing values in 'SMILES' column: {missing_values}\")\n",
    "print(luo_drug_features)\n"
   ]
  },
  {
   "cell_type": "code",
   "execution_count": 14,
   "metadata": {},
   "outputs": [],
   "source": [
    "luo_drug_name = pd.read_csv('/data/zyf/HyperGCN-DTI/data/Luo/drug.txt', header=None, names=['DrugBank ID'])\n",
    "Zheng_drug_name = pd.read_csv('/data/zyf/HyperGCN-DTI/data/Zheng/drug_dic.txt', header=None, names=['DrugBank ID'])\n",
    "extracted_data = data[['mol', 'BindingDB Reactant_set_id', 'DrugBank ID of Ligand', 'KEGG ID of Ligand']]\n",
    "# Extracting data\n",
    "extracted_data = data[['mol', 'BindingDB Reactant_set_id', 'DrugBank ID of Ligand', 'KEGG ID of Ligand']]\n",
    "extracted_data.columns = ['SMILES', 'BindingDB ID', 'DrugBank ID', 'KEGG Drug ID']\n"
   ]
  },
  {
   "cell_type": "code",
   "execution_count": 45,
   "metadata": {},
   "outputs": [
    {
     "data": {
      "text/html": [
       "<div>\n",
       "<style scoped>\n",
       "    .dataframe tbody tr th:only-of-type {\n",
       "        vertical-align: middle;\n",
       "    }\n",
       "\n",
       "    .dataframe tbody tr th {\n",
       "        vertical-align: top;\n",
       "    }\n",
       "\n",
       "    .dataframe thead th {\n",
       "        text-align: right;\n",
       "    }\n",
       "</style>\n",
       "<table border=\"1\" class=\"dataframe\">\n",
       "  <thead>\n",
       "    <tr style=\"text-align: right;\">\n",
       "      <th></th>\n",
       "      <th>SMILES</th>\n",
       "      <th>BindingDB ID</th>\n",
       "      <th>DrugBank ID</th>\n",
       "      <th>KEGG Drug ID</th>\n",
       "    </tr>\n",
       "  </thead>\n",
       "  <tbody>\n",
       "    <tr>\n",
       "      <th>0</th>\n",
       "      <td>O=C([C@@H](O)[C@@H](NC(=O)c1c(C)c(O)ccc1)Cc1cc...</td>\n",
       "      <td>842</td>\n",
       "      <td>NaN</td>\n",
       "      <td>NaN</td>\n",
       "    </tr>\n",
       "    <tr>\n",
       "      <th>1</th>\n",
       "      <td>O=C([C@@H](O)[C@@H](NC(=O)c1c(C)c(O)ccc1)Cc1cc...</td>\n",
       "      <td>852</td>\n",
       "      <td>NaN</td>\n",
       "      <td>NaN</td>\n",
       "    </tr>\n",
       "    <tr>\n",
       "      <th>2</th>\n",
       "      <td>O=C(OCc1ccccc1)N[C@H](C(=O)N[C@H]([C@@H](O)[C@...</td>\n",
       "      <td>1061</td>\n",
       "      <td>NaN</td>\n",
       "      <td>NaN</td>\n",
       "    </tr>\n",
       "    <tr>\n",
       "      <th>3</th>\n",
       "      <td>O=C(OCc1ccccc1)N[C@H](C(=O)N[C@H]([C@@H](O)[C@...</td>\n",
       "      <td>1083</td>\n",
       "      <td>NaN</td>\n",
       "      <td>NaN</td>\n",
       "    </tr>\n",
       "    <tr>\n",
       "      <th>4</th>\n",
       "      <td>S(=O)(=O)(Nc1cc(C(CC)C2C(=O)OC(CCC)(CCc3ccccc3...</td>\n",
       "      <td>1134</td>\n",
       "      <td>NaN</td>\n",
       "      <td>NaN</td>\n",
       "    </tr>\n",
       "  </tbody>\n",
       "</table>\n",
       "</div>"
      ],
      "text/plain": [
       "                                              SMILES  BindingDB ID  \\\n",
       "0  O=C([C@@H](O)[C@@H](NC(=O)c1c(C)c(O)ccc1)Cc1cc...           842   \n",
       "1  O=C([C@@H](O)[C@@H](NC(=O)c1c(C)c(O)ccc1)Cc1cc...           852   \n",
       "2  O=C(OCc1ccccc1)N[C@H](C(=O)N[C@H]([C@@H](O)[C@...          1061   \n",
       "3  O=C(OCc1ccccc1)N[C@H](C(=O)N[C@H]([C@@H](O)[C@...          1083   \n",
       "4  S(=O)(=O)(Nc1cc(C(CC)C2C(=O)OC(CCC)(CCc3ccccc3...          1134   \n",
       "\n",
       "  DrugBank ID KEGG Drug ID  \n",
       "0         NaN          NaN  \n",
       "1         NaN          NaN  \n",
       "2         NaN          NaN  \n",
       "3         NaN          NaN  \n",
       "4         NaN          NaN  "
      ]
     },
     "execution_count": 45,
     "metadata": {},
     "output_type": "execute_result"
    }
   ],
   "source": [
    "extracted_data.head()"
   ]
  },
  {
   "cell_type": "code",
   "execution_count": 65,
   "metadata": {},
   "outputs": [
    {
     "name": "stdout",
     "output_type": "stream",
     "text": [
      "<!DOCTYPE html><html lang=\"en-US\"><head><title>Just a moment...</title><meta http-equiv=\"Content-Type\" content=\"text/html; charset=UTF-8\"><meta http-equiv=\"X-UA-Compatible\" content=\"IE=Edge\"><meta name=\"robots\" content=\"noindex,nofollow\"><meta name=\"viewport\" content=\"width=device-width,initial-scale=1\"><style>*{box-sizing:border-box;margin:0;padding:0}html{line-height:1.15;-webkit-text-size-adjust:100%;color:#313131;font-family:system-ui,-apple-system,BlinkMacSystemFont,Segoe UI,Roboto,Helvetica Neue,Arial,Noto Sans,sans-serif,Apple Color Emoji,Segoe UI Emoji,Segoe UI Symbol,Noto Color Emoji}body{display:flex;flex-direction:column;height:100vh;min-height:100vh}.main-content{margin:8rem auto;max-width:60rem;padding-left:1.5rem}@media (width <= 720px){.main-content{margin-top:4rem}}.h2{font-size:1.5rem;font-weight:500;line-height:2.25rem}@media (width <= 720px){.h2{font-size:1.25rem;line-height:1.5rem}}#challenge-error-text{background-image:url(data:image/svg+xml;base64,PHN2ZyB4bWxucz0iaHR0cDovL3d3dy53My5vcmcvMjAwMC9zdmciIHdpZHRoPSIzMiIgaGVpZ2h0PSIzMiIgZmlsbD0ibm9uZSI+PHBhdGggZmlsbD0iI0IyMEYwMyIgZD0iTTE2IDNhMTMgMTMgMCAxIDAgMTMgMTNBMTMuMDE1IDEzLjAxNSAwIDAgMCAxNiAzbTAgMjRhMTEgMTEgMCAxIDEgMTEtMTEgMTEuMDEgMTEuMDEgMCAwIDEtMTEgMTEiLz48cGF0aCBmaWxsPSIjQjIwRjAzIiBkPSJNMTcuMDM4IDE4LjYxNUgxNC44N0wxNC41NjMgOS41aDIuNzgzem0tMS4wODQgMS40MjdxLjY2IDAgMS4wNTcuMzg4LjQwNy4zODkuNDA3Ljk5NCAwIC41OTYtLjQwNy45ODQtLjM5Ny4zOS0xLjA1Ny4zODktLjY1IDAtMS4wNTYtLjM4OS0uMzk4LS4zODktLjM5OC0uOTg0IDAtLjU5Ny4zOTgtLjk4NS40MDYtLjM5NyAxLjA1Ni0uMzk3Ii8+PC9zdmc+);background-repeat:no-repeat;background-size:contain;padding-left:34px}@media (prefers-color-scheme:dark){body{background-color:#222;color:#d9d9d9}}</style><meta http-equiv=\"refresh\" content=\"390\"></head><body class=\"no-js\"><div class=\"main-wrapper\" role=\"main\"><div class=\"main-content\"><noscript><div class=\"h2\"><span id=\"challenge-error-text\">Enable JavaScript and cookies to continue</span></div></noscript></div></div><script>(function(){window._cf_chl_opt={cvId: '3',cZone: \"go.drugbank.com\",cType: 'interactive',cNounce: '8784',cRay: '8ca419954c2a0995',cHash: '69bac18e1236646',cUPMDTk: \"\\/users\\/sign_in?__cf_chl_tk=mz_ZHosjM8oshTEC.Q_4xeVXZ6Y9TSapvdW9Rttypww-1727530350-0.0.1.1-4116\",cFPWv: 'g',cTTimeMs: '1000',cMTimeMs: '390000',cTplV: 5,cTplB: 'cf',cK: \"\",fa: \"\\/users\\/sign_in?__cf_chl_f_tk=mz_ZHosjM8oshTEC.Q_4xeVXZ6Y9TSapvdW9Rttypww-1727530350-0.0.1.1-4116\",md: \"4sqs6ajbAjaXUDv.0IGp2Z8QY5V4WVsyLz.ILq3aFb8-1727530350-1.1.1.1-59xooKVy3cS72mtv.zJluaD8BdjL5va0v2HylizZZOtij6Y3XzMzEWzFL27nlDnm6cbQNTPu_Z5OxgXQqL00u3i23sbhTkFvMEfnG1DKBBDVSLUJJeODv8h.IUwdppSDkMsmgp4kJYJ98ZZZFC5I9WijmrGxuUiGlXx.9njbIfzR8X02ILDx1VjLCGzbBfRQUzoK_tWH4dRqR6lFxl5yaVAVI6kfBUyJljnUxuudM3BphW3mLHEEFPMf44ZBLQL0mMbo0YYTjvZpjxXsXNfLhAVDcHIyBKjJWae7JfQ81uWE2uoC_JH0GA91JgS1GMooIrZw77iuBofNbaMbfUSZdWU3XZmRShp7VNdIti5iBuCwUNPLQmYbRTJkrc8wtLF0wtNfBxMIzcKV94KFs8K1vf.Y7ea03lxgZawz1gkMDJbE8SNgvqKJGIJlbrwji9ZViX211k14IybK_0e1T11gRjc9vstDW68t2yAHF8NotsLrYsaeTF3FIPvLXJbkkQYU4auNEFfoDMwSGfn4TKujiHS7H98W0KOH.OS_ezmH3x1J5E34E22jzS6jUp60iVuezOKTgLRc8fP0apsbWgqCSwchFWjNtooiDyOAia9cyEBeagBLzHFqQMtlL8TroJfj3AutN7ty5gbzq.X6eXqDBIA_6_zR.BxbH_VQ2b9A2eD3zzTvdn1eOW_9Dkr_vuYVnAymX9bNDkDnZdBfeWBuuqIYXeC94HLz8BwrW.BC4ZRZbCBKOhEYBo9lsxWFUzIDeS9cb1NUqRT6k2juLeUuQ2cfzTKzYq9CuRlbEjDmFoZQDY92LewyGS7idO_Dfid6FWwCohogwaaCdOeMmRV.GVYDkhiVXYt2oGKIIaBIhU4a8oV_WQEriQFMF_QzaCF.EXAmnMW8lVK4JgaY49Pcu4u8p61oVZL9Xjw4C2bjJaQN6WF6.Vxplf42uQlbTsPHkYrW7wLnQFZ.ZszihNKbiIVu0OY2i5mciHMa4kBMhDoa4DMbE27UWr3BRFaNNs9.i6G4_nkIGU4kH1SWVRvzNnitBbC20OGaSMPe2gZyTF0_kbuGenRBO7lwvwkEIuPig2BRoyMzuXBxTdETMtM9uUEjikqMqyDYvfXTohY9v4QK_OGtS_9ay5lWFBS0tleP9Vi56AbBLWDKYpa87m2kCrOaxZjCoIZQ._PKzC4uSlIuNF8ZJDGvOFDdlnpmVyqaSBypnTrCFhMSpVo3HLrtz3ryYzq48b3TUrP72tg5yAc1KfxZqKi0.iC7yuG9Oyly78ByqCtdNOSDkDPCSyuMCB5ZKUy9oOffxU.lJ3QKpQanzP3P1deMDJy25XApmWgJWECNiihYhfX9LyDn4kevDkIDhrRJlbB51oxHkFIl0c7RuHCE2d2l7_JoxEBw88tdBU_ttBJfOEyCktP2vT1YWmwO5wrYj_wJhd4a5GtFi1Ov54rV1P9xUzlKIp9LeQSy1.dpm5fc9iV6z6oxXSP4U18_UkyYUcMmsqaqAa9eAXHoCc6kzNewvYcwWsR6FsQfcroFoSyYUVjWG..FoAJYcIzCNvKRROJGQQpTPyRYkHKmR4Y7FzQ2bbvlmntxiCvbYxUCUQUbrDl0qn5ddqG4e0dHXZwXz6E3zqEr6v9ugfNImIwQvvPH39FaSVrs3lTj\",mdrd: \"Z4SJ0w0tXABgUPsG1uDLJ0cnHxXOraVpzJ4qzsAJW1g-1727530350-1.1.1.1-Dt4tylTRju2xyYOxzQtcexqrwEIzaSFtFJtA4n0QSE.bufcPbkTOB41C.xyXvqIB6BzdG0oxWnfw9fKEH.wPFIHkj_SdUkfHKW8bT4sCFkPrQpb09QKsWcOhofFFC7VqNWgUZ3eSvF7qwGDeNxdNZ01tKM3xgVxRaHpvwPJgSecchTxytyhPnu4eUpNPIdHAAUTamSMkuvLIiReMQTXCIwseeFS68R9hYLysrDQdcLBUAW7VHUpVtL_xGYQvkiSIWvZDshV7e__zdiPb1K.gtgy4XZwGsHSsSER0Ezw8gr96h7Mg798v6Cq7vV3pf0P3WbQmpo2WCgp3En8RE4FqiNF.N0VapNZW8Tt3pBW4AuLuSImUuWf9IjLtRN1Sjef2vF27eDxl5wq4CR3vtso1sQd1JkyiS0DfMT71ZK9bwFq_oO84PQRoByGIkhcS03HexFM4ty7q3wQYAPg6ma.2qn3hxVbVg0Zfq37xCCV818hEmWZuUGhgODHgZyePYRIhde0RX2pEGNoTxSjwx12Xy8RIV1qo2w0z6nQ._RYHiZuc_wxnUSuvcYpCzCURUYuL1ZAwozjZYnvpyYBTRRq13v.8PQMsw2eQ9_THMZYeaFtoHOr.gkX7hKaIelS4rukuvTXupcuMzV5iuRTqTvPJOhtNyoqtGAhwEti_I6dYZFxAK_ATnjXkdQKYnOFtUXFWXlwzA552XJNtwiMKIz9ua.EVCjxd.nP1GGE7DalfBTBnGTKDO2oEK.9nkpzXbk_D0ohG._qfoqE6gRIt0MbN_NVbwBcQxlbVr4w4qCDWNll7DyXHWRQ1jAp.2xrTVW5jPtpDruWPuLBt1yHYS0pvF5m5xP3u0f2rEj2m9I8WXcDO4Jh7FpUNcrufH_Y6T6Okj9a.dbhQa47msvX1gZHO1VRX1PLBXeDAwRj.2L.mU_omkDYGMT7F5pn38sScoY.tftixpj_fAoUEgsK55fFH1ltUUkyDrCkp9.ee4dJkK2S5qiiiXskfad3MxsPU5z4.bKkP3d5agsBYBqnRqUH9Mtn_1_DpMookITJE9N3ROKICLprDI40r1eUj07JCxUuedYv_ktwdSPkBlcKPHRNcRGvIGWdnWrTEOSKmA0iwDQ9GvUldaXjSCEhif4bmbE.Z5itLwtRW6mJXDEMbuwuboLgGbtDK8evHYc2CbvVX.kVwMGqimfcIkyO29KR8PZwit3HJSevXsYiW4_HKlWz_8VWVDHGRW9LtQfRGJkioaEDOakH6SoGXRDO0yGluB6sqVnNAAekU8rvRLsDvulWTD2TqrG_vL9TjxtKGgsSN0t2Tg.gptkSgqSlOusq4GOHeHcNwqMyp7Y_X5tfWRpUtwMQ5Bbb8Tw6NekiY9xrHfBkIOKt.rssXDFO1AKWtdDYI8G_CBCrX4DmAHtS_u4GfFvXZwgIs5XRzb1gAAqkmJiIvbYYfY5tod2KkcI9V6t5H23XcruIstOhCV3dOqSkY59uQ56FncTz0XGVcLGEO6AF7Ovc2o6zdnGk5nmcWV62QKMNM9ZE.CY6EKR.0WVkFgtGdk1Wzr_.Rp92l.JxKhSL7AWJla_SywwHHZ41sfUG2pMbRkEmUKHSVjikFpT9DgX9Dutn3WyM4Dp4OkCybbyKYJheZ1Pzc4hFjnN82WuLgCN4DxxGlec7BfUJk1BOcqndleGtstH4ksJ_nm_vgEdjM5tCAp3qGrDUH3O3CmYogJdPwBnJ28aLtxgJODExFPlVjRXxVnv97pzFpRbq5pjzIg7I7BILYVZBw59YYbYThHMuh0WViQJVey6EyYycDrtHXwycIco3Qz06fpFjEfTZ0mSSs3LYutCjKpVlU78ov970zt3IBZtrOI2iBLvNITBiu1D67KwuL7TNA.sqppJG.er51d_0_TunyX0oExhX7c21BFhLWD4412ItT4UqnoUmn6SU.PQ8mrOdoqxb0bdEyqeP6IdOdwfur8bKo5sxd7vfvOUa8CXGUYWyiRPrJCwkrFw31GmAxiA7h6XGRnuT0ZOQxVgdyNEqq7h1VL.Lhgy1ssclGSmoYg_Dafrr_jb3U8yQGvLn4.XWXH090ekpbu0DXKc7Py3gGSb9IhOAFoK68Pdh030vneUBOEiy.JXo2h5vegjJdkWg40ju2YWjFC2VWPCPRtj4U.c58maTzOC4yjbBpTA2eLnAOMH2gWrZHWAlhJLVCao9Mz5nH0DYyxNgseoaJgkNMCp0fnjTtV8De5onSPKaN28c6VEaAG7FlkCpCWB038to8srg_Lz0GfB1wilANpDdR3bU1GJymveSdl_LYok_XlxIrHy0nGQ\",cRq: {ru: 'aHR0cHM6Ly9nby5kcnVnYmFuay5jb20vdXNlcnMvc2lnbl9pbg==',ra: 'TW96aWxsYS81LjAgKFdpbmRvd3MgTlQgMTAuMDsgV2luNjQ7IHg2NCkgQXBwbGVXZWJLaXQvNTM3LjM2IChLSFRNTCwgbGlrZSBHZWNrbykgQ2hyb21lLzU4LjAuMzAyOS4xMTAgU2FmYXJpLzUzNy4z',d: 'WEh+vQ5BnCWs4NAuOBpQ5s49Mqxgxksksfd+cluqV0FGlCB0x3J9UucGBahtmTVlXKMoDn83zJn3iUQfo+rQR5bhHfAiueVQF9/fLopX8BZqgcTjIunpJgF8/8ykWC16OnLyX/VIg4JdYDO6hzUugekjNheD74mT4YWfdGqxErVBS5pr9FndmLWYi3b40ma15HYibT7U6emsKLg/GmjrhySvVxtgYJ4243ZX/k+XvkCcASfPHRCSe3PbYFmw+Yg5/vLIDCjWJWsRcW0AMKkWXY1It9/9U551++9+Q6hv6owGQdg3VAU2przkWvUxbwAlgjKKW0W6sv6im8Uj69yymf9u+HoopBWDgcegWylO5R5A/Wm40bOl7dxeNcMNnckLqGlv0Ej8IN6eaTjAJKEg6cRBZ9OObgZWxhISZXI7OkxZAy3WnckcxLLhjZRrxvwWkP+6a6k7n28jmh5f4wzvMtgTFRgI0ss92ask/KhXqsRFFQNZZ+hQRM2Og/B5RtHJx7YCrOI/W6733WYxJISp0/AZGb3Po3keUrLAle6ELOXEzlby+qBhwjIys4ycul9ENB9Az6Jra2EI5BScOBTbZQ==',t: 'MTcyNzUzMDM1MC4wMDAwMDA=',cT: Math.floor(Date.now() / 1000),m: '7K0gZ+/HXoi1fffQJrGkyIhfMxfHxmgNJLK4zNnfxOk=',i1: 'wrZtyUowNy7bzPClsI/50g==',i2: '7lNDwpqrsNVHDjafooyfLg==',zh: 'tsu+IvW9Mtr7lfd3YA+SSU1cSp8onjjS+6zCIlvyETk=',uh: '0C0u6AAowDJLu0DVVHR+OFYvZ2L4tzkp+TtciSyuCzE=',hh: 'AbqDZAoUKgOXIgKopPp1AWg6nz1TuXUURJLroKxdJjk=',}};var cpo = document.createElement('script');cpo.src = '/cdn-cgi/challenge-platform/h/g/orchestrate/chl_page/v1?ray=8ca419954c2a0995';window._cf_chl_opt.cOgUHash = location.hash === '' && location.href.indexOf('#') !== -1 ? '#' : location.hash;window._cf_chl_opt.cOgUQuery = location.search === '' && location.href.slice(0, location.href.length - window._cf_chl_opt.cOgUHash.length).indexOf('?') !== -1 ? '?' : location.search;if (window.history && window.history.replaceState) {var ogU = location.pathname + window._cf_chl_opt.cOgUQuery + window._cf_chl_opt.cOgUHash;history.replaceState(null, null, \"\\/users\\/sign_in?__cf_chl_rt_tk=mz_ZHosjM8oshTEC.Q_4xeVXZ6Y9TSapvdW9Rttypww-1727530350-0.0.1.1-4116\" + window._cf_chl_opt.cOgUHash);cpo.onload = function() {history.replaceState(null, null, ogU);}}document.getElementsByTagName('head')[0].appendChild(cpo);}());</script></body></html>\n",
      "Could not find authenticity_token. Please check the login page structure.\n"
     ]
    },
    {
     "ename": "",
     "evalue": "",
     "output_type": "error",
     "traceback": [
      "\u001b[1;31mThe Kernel crashed while executing code in the current cell or a previous cell. \n",
      "\u001b[1;31mPlease review the code in the cell(s) to identify a possible cause of the failure. \n",
      "\u001b[1;31mClick <a href='https://aka.ms/vscodeJupyterKernelCrash'>here</a> for more info. \n",
      "\u001b[1;31mView Jupyter <a href='command:jupyter.viewOutput'>log</a> for further details."
     ]
    }
   ],
   "source": [
    "import requests\n",
    "from bs4 import BeautifulSoup\n",
    "\n",
    "# Start a session\n",
    "session = requests.Session()\n",
    "\n",
    "# Headers to mimic a real browser\n",
    "headers = {\n",
    "    \"User-Agent\": \"Mozilla/5.0 (Windows NT 10.0; Win64; x64) AppleWebKit/537.36 (KHTML, like Gecko) Chrome/58.0.3029.110 Safari/537.3\"\n",
    "}\n",
    "\n",
    "# Step 1: Access the login page to fetch the authenticity token\n",
    "login_url = \"https://go.drugbank.com/users/sign_in\"\n",
    "login_page = session.get(login_url, headers=headers)\n",
    "\n",
    "# Check the returned content\n",
    "print(login_page.text)  # Debug: Output the HTML to see if it matches expectations\n",
    "\n",
    "# Parse the login page\n",
    "soup = BeautifulSoup(login_page.text, 'html.parser')\n",
    "\n",
    "# Extract the authenticity token\n",
    "auth_token = soup.find('input', {'name': 'authenticity_token'})\n",
    "if auth_token:\n",
    "    auth_token = auth_token.get('value')\n",
    "    print(\"Found authenticity_token:\", auth_token)\n",
    "else:\n",
    "    print(\"Could not find authenticity_token. Please check the login page structure.\")\n",
    "    exit()\n"
   ]
  },
  {
   "cell_type": "code",
   "execution_count": 48,
   "metadata": {},
   "outputs": [
    {
     "name": "stdout",
     "output_type": "stream",
     "text": [
      "Number of missing values in 'BindingDB ID' column: 189\n",
      "      DrugBank ID                                             SMILES  \\\n",
      "0         DB00050                                                NaN   \n",
      "1         DB00152                  OCCc1c(C)[n+](Cc2c(N)nc(C)nc2)cs1   \n",
      "14        DB00162       OC/C=C(/C=C/C=C(/C=C/C=1C(C)(C)CCCC=1C)\\C)\\C   \n",
      "17        DB00175  O=C(O[C@@H]1[C@@H]2[C@@H](CC[C@@H](O)C[C@@H](O...   \n",
      "40        DB00176                  FC(F)(F)c1ccc(C(=NOCCN)CCCCOC)cc1   \n",
      "...           ...                                                ...   \n",
      "39443     DB06711                        C(c1c2c(ccc1)cccc2)C1=NCCN1   \n",
      "39476     DB06800  O=C1[C@@H]2Oc3c(O)ccc4c3[C@@]32[C@](O)([C@H]([...   \n",
      "39496     DB06811                                                NaN   \n",
      "39497     DB08826                                                NaN   \n",
      "39498     DB08860  Fc1ccc(-c2c(/C=C/[C@@H](O)C[C@@H](O)CC(=O)O)c(...   \n",
      "\n",
      "       BindingDB ID KEGG Drug ID  \n",
      "0               NaN          NaN  \n",
      "1          413463.0       C00378  \n",
      "14       50906347.0       C00473  \n",
      "17         188964.0       C01844  \n",
      "40         119888.0          NaN  \n",
      "...             ...          ...  \n",
      "39443      175943.0       C07898  \n",
      "39476    50212152.0          NaN  \n",
      "39496           NaN          NaN  \n",
      "39497           NaN          NaN  \n",
      "39498      188960.0       C03834  \n",
      "\n",
      "[708 rows x 4 columns]\n"
     ]
    }
   ],
   "source": [
    "luo_drug_features = luo_drug_name.merge(extracted_data, on='DrugBank ID', how='left')\n",
    "# Display the resulting dataframe containing the matching SMILES\n",
    "#luo_drug_features = luo_drug_features[['DrugBank ID', 'SMILES']]\n",
    "# Drop duplicate rows based on the 'DrugBank ID' column\n",
    "luo_drug_features = luo_drug_features.drop_duplicates(subset='DrugBank ID', keep='first')\n",
    "\n",
    "# Check for any missing values in the 'SMILES' column\n",
    "missing_values = luo_drug_features['BindingDB ID'].isna().sum()\n",
    "\n",
    "# Display the cleaned data and the count of missing values\n",
    "print(f\"Number of missing values in 'BindingDB ID' column: {missing_values}\")\n",
    "print(luo_drug_features)"
   ]
  },
  {
   "cell_type": "code",
   "execution_count": 49,
   "metadata": {},
   "outputs": [],
   "source": [
    "ya_drug_name =  pd.read_csv('/data/zyf/HyperGCN-DTI/data/Yamanishi/drug_smiles.csv')"
   ]
  },
  {
   "cell_type": "code",
   "execution_count": 41,
   "metadata": {},
   "outputs": [
    {
     "name": "stdout",
     "output_type": "stream",
     "text": [
      "  KEGG Drug ID                                             SMILES  feature_1  \\\n",
      "0       D00448  OC(=O)C1=CC(=CC=C1O)\\N=N\\C1=CC=C(C=C1)S(=O)(=O...  -0.045468   \n",
      "1       D00037                         OC(=O)CC(O)(CC(O)=O)C(O)=O   0.061610   \n",
      "2       D00155    OC[C@H]1O[C@H](C[C@@H]1O)N1C=NC2=C1N=CNC[C@H]2O  -0.038069   \n",
      "3       D00021                        N[C@@H](CC1=CC=CC=C1)C(O)=O   0.010332   \n",
      "4       D01441  CN1CCN(CC2=CC=C(C=C2)C(=O)NC2=CC(NC3=NC=CC(=N3...  -0.044214   \n",
      "\n",
      "   feature_2  feature_3  feature_4  feature_5  feature_6  feature_7  \\\n",
      "0  -0.005802  -0.073091   0.016811  -0.043807   0.044790  -0.082236   \n",
      "1   0.148773  -0.106675  -0.051982   0.081267  -0.134128   0.057199   \n",
      "2   0.020136  -0.046006  -0.017700   0.093686  -0.022143  -0.057902   \n",
      "3  -0.005363  -0.127564   0.021989   0.024732  -0.098402  -0.045624   \n",
      "4  -0.047543   0.113636   0.003911  -0.061161  -0.056651  -0.023843   \n",
      "\n",
      "   feature_8  ...  feature_375  feature_376  feature_377  feature_378  \\\n",
      "0  -0.012501  ...    -0.052162     0.020804    -0.054393    -0.082734   \n",
      "1  -0.067740  ...    -0.104498     0.112859     0.027018     0.124879   \n",
      "2  -0.028422  ...    -0.069027     0.031112     0.077637    -0.032574   \n",
      "3  -0.047453  ...    -0.149303     0.091414    -0.009671    -0.012008   \n",
      "4   0.073544  ...    -0.142711    -0.059117     0.048793    -0.094287   \n",
      "\n",
      "   feature_379  feature_380  feature_381  feature_382  feature_383  \\\n",
      "0    -0.079000     0.012090    -0.058941     0.076637     0.110403   \n",
      "1    -0.090628     0.006342     0.076683    -0.062819     0.070170   \n",
      "2     0.033187    -0.017486    -0.001555    -0.008475     0.052926   \n",
      "3    -0.009501     0.040366    -0.013712     0.026678     0.041042   \n",
      "4     0.032132     0.063620    -0.022188     0.137589     0.045574   \n",
      "\n",
      "   feature_384  \n",
      "0     0.008841  \n",
      "1     0.021946  \n",
      "2     0.038843  \n",
      "3     0.032232  \n",
      "4    -0.021184  \n",
      "\n",
      "[5 rows x 386 columns]\n"
     ]
    },
    {
     "data": {
      "text/plain": [
       "0             NaN\n",
       "1             NaN\n",
       "2             NaN\n",
       "3             NaN\n",
       "4             NaN\n",
       "            ...  \n",
       "2785721    C07675\n",
       "2785722       NaN\n",
       "2785723       NaN\n",
       "2785724    C15493\n",
       "2785725       NaN\n",
       "Name: KEGG Drug ID, Length: 2785726, dtype: object"
      ]
     },
     "execution_count": 41,
     "metadata": {},
     "output_type": "execute_result"
    }
   ],
   "source": [
    "print(ya_drug_name.head())\n",
    "extracted_data['KEGG Drug ID']"
   ]
  },
  {
   "cell_type": "code",
   "execution_count": 43,
   "metadata": {},
   "outputs": [
    {
     "name": "stdout",
     "output_type": "stream",
     "text": [
      "Number of missing values in 'SMILES' column: 791\n",
      "  KEGG Drug ID                                             SMILES  feature_1  \\\n",
      "0       D00448  OC(=O)C1=CC(=CC=C1O)\\N=N\\C1=CC=C(C=C1)S(=O)(=O...  -0.045468   \n",
      "1       D00037                         OC(=O)CC(O)(CC(O)=O)C(O)=O   0.061610   \n",
      "2       D00155    OC[C@H]1O[C@H](C[C@@H]1O)N1C=NC2=C1N=CNC[C@H]2O  -0.038069   \n",
      "3       D00021                        N[C@@H](CC1=CC=CC=C1)C(O)=O   0.010332   \n",
      "4       D01441  CN1CCN(CC2=CC=C(C=C2)C(=O)NC2=CC(NC3=NC=CC(=N3...  -0.044214   \n",
      "\n",
      "   feature_2  feature_3  feature_4  feature_5  feature_6  feature_7  \\\n",
      "0  -0.005802  -0.073091   0.016811  -0.043807   0.044790  -0.082236   \n",
      "1   0.148773  -0.106675  -0.051982   0.081267  -0.134128   0.057199   \n",
      "2   0.020136  -0.046006  -0.017700   0.093686  -0.022143  -0.057902   \n",
      "3  -0.005363  -0.127564   0.021989   0.024732  -0.098402  -0.045624   \n",
      "4  -0.047543   0.113636   0.003911  -0.061161  -0.056651  -0.023843   \n",
      "\n",
      "   feature_8  ...  feature_376  feature_377  feature_378  feature_379  \\\n",
      "0  -0.012501  ...     0.020804    -0.054393    -0.082734    -0.079000   \n",
      "1  -0.067740  ...     0.112859     0.027018     0.124879    -0.090628   \n",
      "2  -0.028422  ...     0.031112     0.077637    -0.032574     0.033187   \n",
      "3  -0.047453  ...     0.091414    -0.009671    -0.012008    -0.009501   \n",
      "4   0.073544  ...    -0.059117     0.048793    -0.094287     0.032132   \n",
      "\n",
      "   feature_380  feature_381  feature_382  feature_383  feature_384  \\\n",
      "0     0.012090    -0.058941     0.076637     0.110403     0.008841   \n",
      "1     0.006342     0.076683    -0.062819     0.070170     0.021946   \n",
      "2    -0.017486    -0.001555    -0.008475     0.052926     0.038843   \n",
      "3     0.040366    -0.013712     0.026678     0.041042     0.032232   \n",
      "4     0.063620    -0.022188     0.137589     0.045574    -0.021184   \n",
      "\n",
      "   BindingDB ID  \n",
      "0           NaN  \n",
      "1           NaN  \n",
      "2           NaN  \n",
      "3           NaN  \n",
      "4           NaN  \n",
      "\n",
      "[5 rows x 387 columns]\n"
     ]
    }
   ],
   "source": [
    "ya_drug_features = ya_drug_name.merge(extracted_data[['BindingDB ID','KEGG Drug ID']], on='KEGG Drug ID', how='left')\n",
    "ya_drug_features = ya_drug_features.drop_duplicates(subset='KEGG Drug ID', keep='first')\n",
    "# Check for any missing values in the 'SMILES' column\n",
    "missing_values = ya_drug_features['BindingDB ID'].isna().sum()\n",
    "\n",
    "# Display the cleaned data and the count of missing values\n",
    "print(f\"Number of missing values in 'SMILES' column: {missing_values}\")\n",
    "print(ya_drug_features.head())"
   ]
  }
 ],
 "metadata": {
  "kernelspec": {
   "display_name": "my_env",
   "language": "python",
   "name": "python3"
  },
  "language_info": {
   "codemirror_mode": {
    "name": "ipython",
    "version": 3
   },
   "file_extension": ".py",
   "mimetype": "text/x-python",
   "name": "python",
   "nbconvert_exporter": "python",
   "pygments_lexer": "ipython3",
   "version": "3.8.18"
  }
 },
 "nbformat": 4,
 "nbformat_minor": 2
}
